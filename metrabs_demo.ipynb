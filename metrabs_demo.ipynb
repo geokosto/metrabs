{
  "cells": [
    {
      "cell_type": "markdown",
      "metadata": {
        "colab_type": "text",
        "id": "view-in-github"
      },
      "source": [
        "<a href=\"https://colab.research.google.com/github/isarandi/metrabs/blob/master/metrabs_demo.ipynb\" target=\"_parent\"><img src=\"https://colab.research.google.com/assets/colab-badge.svg\" alt=\"Open In Colab\"/></a>"
      ]
    },
    {
      "cell_type": "markdown",
      "metadata": {
        "id": "KuNip8LSIYLI"
      },
      "source": [
        "# MeTRAbs Absolute 3D Human Pose Estimator\n",
        "\n",
        "István Sárándi, Timm Linder, Kai Oliver Arras, Bastian Leibe: \"*MeTRAbs: Metric-Scale Truncation-Robust Heatmaps for Absolute 3D Human Pose Estimation.*\"\n",
        "In IEEE Transactions on Biometrics, Behavior, and Identity Science (T-BIOM), Selected Best Works From Automatic Face and Gesture Recognition (FG) 2020\n",
        "\n",
        "* Repo: https://github.com/isarandi/metrabs\n",
        "* Paper: https://arxiv.org/abs/2007.07227\n",
        "* Conference talk: https://youtu.be/BemM8-Lx47g\n",
        "* Qualitative result compilation: https://youtu.be/4VFKiiW9RCQ"
      ]
    },
    {
      "cell_type": "code",
      "execution_count": null,
      "metadata": {
        "id": "Yhoyozpe451g"
      },
      "outputs": [
        {
          "ename": "",
          "evalue": "",
          "output_type": "error",
          "traceback": [
            "\u001b[1;31mThe kernel failed to start as a dll could not be loaded.\n",
            "\u001b[1;31mClick <a href='https://aka.ms/kernelFailuresDllLoad'>here</a> for more info."
          ]
        }
      ],
      "source": [
        "import tensorflow as tf\n",
        "import os\n",
        "\n",
        "def download_model(model_type):\n",
        "    server_prefix = 'https://omnomnom.vision.rwth-aachen.de/data/metrabs'\n",
        "    model_zippath = tf.keras.utils.get_file(\n",
        "        origin=f'{server_prefix}/{model_type}_20211019.zip',\n",
        "        extract=True, cache_subdir='models')\n",
        "    model_path = os.path.join(os.path.dirname(model_zippath), model_type)\n",
        "    return model_path\n",
        "\n",
        "model = tf.saved_model.load(download_model('metrabs_mob3l_y4t')) # or metrabs_eff2l_y4 for the big model\n"
      ]
    },
    {
      "cell_type": "code",
      "execution_count": null,
      "metadata": {},
      "outputs": [],
      "source": [
        "# ! wget -q https://raw.githubusercontent.com/isarandi/metrabs/master/img/test_image_3dpw.jpg\n",
        "image = tf.image.decode_jpeg(tf.io.read_file('test_image_3dpw.jpg'))"
      ]
    },
    {
      "cell_type": "code",
      "execution_count": null,
      "metadata": {
        "id": "5VomNQ5QTSZH",
        "pycharm": {
          "name": "#%%\n"
        }
      },
      "outputs": [],
      "source": [
        "# pred = model.detect_poses(image, skeleton='smpl_24')"
      ]
    },
    {
      "cell_type": "code",
      "execution_count": null,
      "metadata": {
        "colab": {
          "base_uri": "https://localhost:8080/",
          "height": 384
        },
        "id": "9YRs53ID-xbM",
        "outputId": "d5aa355a-4139-49b1-9644-9b190169e918"
      },
      "outputs": [],
      "source": [
        "import matplotlib.pyplot as plt\n",
        "from matplotlib.patches import Rectangle\n",
        "from mpl_toolkits.mplot3d import Axes3D\n",
        "\n",
        "def visualize(im, detections, poses3d, poses2d, edges):\n",
        "    fig = plt.figure(figsize=(10, 5.2))\n",
        "    image_ax = fig.add_subplot(1, 2, 1)\n",
        "    image_ax.imshow(image)\n",
        "    for x, y, w, h in detections[:, :4]:\n",
        "        image_ax.add_patch(Rectangle((x, y), w, h, fill=False))\n",
        "\n",
        "    pose_ax = fig.add_subplot(1, 2, 2, projection='3d')\n",
        "    pose_ax.view_init(5, -85)\n",
        "    pose_ax.set_xlim3d(-1500, 1500)\n",
        "    pose_ax.set_zlim3d(-1500, 1500)\n",
        "    pose_ax.set_ylim3d(0, 3000)\n",
        "\n",
        "    # Matplotlib plots the Z axis as vertical, but our poses have Y as the vertical axis.\n",
        "    # Therefore, we do a 90° rotation around the X axis:\n",
        "    poses3d[..., 1], poses3d[..., 2] = poses3d[..., 2], -poses3d[..., 1]\n",
        "    for pose3d, pose2d in zip(poses3d, poses2d):\n",
        "        for i_start, i_end in edges:\n",
        "            image_ax.plot(*zip(pose2d[i_start], pose2d[i_end]), marker='o', markersize=2)\n",
        "            pose_ax.plot(*zip(pose3d[i_start], pose3d[i_end]), marker='o', markersize=2)\n",
        "        image_ax.scatter(*pose2d.T, s=2)\n",
        "        pose_ax.scatter(*pose3d.T, s=2)\n",
        "\n",
        "    fig.tight_layout()\n",
        "    plt.show()\n",
        "\n",
        "visualize(\n",
        "    image.numpy(), \n",
        "    pred['boxes'].numpy(),\n",
        "    pred['poses3d'].numpy(),\n",
        "    pred['poses2d'].numpy(),\n",
        "    model.per_skeleton_joint_edges['smpl_24'].numpy())"
      ]
    },
    {
      "cell_type": "markdown",
      "metadata": {
        "id": "ICoFmIeFL-kP"
      },
      "source": [
        "## Predict with specified bounding boxes and intrinsics\n",
        "\n",
        "You use your own intrinsic matrix and the bounding boxes (x_min, y_min, width, height) as follows:"
      ]
    },
    {
      "cell_type": "code",
      "execution_count": null,
      "metadata": {
        "colab": {
          "base_uri": "https://localhost:8080/",
          "height": 384
        },
        "id": "hTsWkCfCMCH4",
        "outputId": "92ba365b-6419-435a-ff94-0e5d240c459a"
      },
      "outputs": [],
      "source": [
        "intrinsic_matrix = tf.constant([[1962, 0, 540], [0, 1969, 960], [0, 0, 1]], dtype=tf.float32)\n",
        "boxes = tf.constant([[0, 626, 367, 896], [524, 707, 475, 841], [588, 512, 54, 198]], tf.float32)\n",
        "pred = model.estimate_poses(image, intrinsic_matrix=intrinsic_matrix, boxes=boxes, skeleton='smpl_24')\n",
        "visualize(\n",
        "    image.numpy(),\n",
        "    boxes.numpy(),\n",
        "    pred['poses3d'].numpy(),\n",
        "    pred['poses2d'].numpy(),\n",
        "    model.per_skeleton_joint_edges['smpl_24'].numpy())"
      ]
    },
    {
      "cell_type": "code",
      "execution_count": null,
      "metadata": {},
      "outputs": [],
      "source": [
        "# !python -c \"from PIL import Image; Image.open('image2.png').convert('RGB').save('image2.jpg')\"\n"
      ]
    },
    {
      "cell_type": "code",
      "execution_count": null,
      "metadata": {},
      "outputs": [],
      "source": []
    },
    {
      "cell_type": "code",
      "execution_count": null,
      "metadata": {},
      "outputs": [],
      "source": []
    },
    {
      "cell_type": "code",
      "execution_count": null,
      "metadata": {},
      "outputs": [],
      "source": [
        "def visualize_poseviz(image, pred, joint_names, joint_edges):\n",
        "    # Install PoseViz from https://github.com/isarandi/poseviz\n",
        "    import poseviz\n",
        "    import cameralib\n",
        "\n",
        "    camera = cameralib.Camera.from_fov(55, image.shape)\n",
        "    print(camera)\n",
        "    viz = poseviz.PoseViz(joint_names, joint_edges)\n",
        "    viz.update(frame=image, boxes=pred[\"boxes\"], poses=pred[\"poses3d\"], camera=camera)\n",
        "\n",
        "image = tf.image.decode_jpeg(tf.io.read_file('image2.jpg'))\n",
        "\n",
        "skeleton = \"smpl_24\"\n",
        "pred = model.detect_poses(image, default_fov_degrees=55, skeleton=skeleton)\n",
        "pred_nested = tf.nest.map_structure(lambda x: x.numpy(), pred)\n",
        "joint_names = model.per_skeleton_joint_names[skeleton].numpy().astype(str)\n",
        "joint_edges = model.per_skeleton_joint_edges[skeleton].numpy()\n",
        "\n",
        "visualize_poseviz(image.numpy(), pred_nested,joint_names,joint_edges)"
      ]
    }
  ],
  "metadata": {
    "accelerator": "GPU",
    "colab": {
      "collapsed_sections": [],
      "include_colab_link": true,
      "name": "metrabs_demo.ipynb",
      "provenance": []
    },
    "kernelspec": {
      "display_name": "Python 3",
      "name": "python3"
    },
    "language_info": {
      "codemirror_mode": {
        "name": "ipython",
        "version": 3
      },
      "file_extension": ".py",
      "mimetype": "text/x-python",
      "name": "python",
      "nbconvert_exporter": "python",
      "pygments_lexer": "ipython3",
      "version": "3.9.19"
    }
  },
  "nbformat": 4,
  "nbformat_minor": 0
}
